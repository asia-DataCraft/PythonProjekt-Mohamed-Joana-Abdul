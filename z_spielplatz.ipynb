{
 "cells": [
  {
   "cell_type": "code",
   "execution_count": 37,
   "metadata": {},
   "outputs": [],
   "source": [
    "import pandas as pd\n",
    "import numpy as np\n",
    "\n",
    "import datetime\n",
    "import pickle\n",
    "\n",
    "import matplotlib.pyplot as plt\n",
    "import seaborn as sns\n",
    "\n",
    "from ipywidgets import interact\n",
    "from ipywidgets import IntSlider, FloatSlider, Dropdown, FloatText"
   ]
  },
  {
   "cell_type": "code",
   "execution_count": 38,
   "metadata": {},
   "outputs": [
    {
     "data": {
      "text/html": [
       "<div>\n",
       "<style scoped>\n",
       "    .dataframe tbody tr th:only-of-type {\n",
       "        vertical-align: middle;\n",
       "    }\n",
       "\n",
       "    .dataframe tbody tr th {\n",
       "        vertical-align: top;\n",
       "    }\n",
       "\n",
       "    .dataframe thead th {\n",
       "        text-align: right;\n",
       "    }\n",
       "</style>\n",
       "<table border=\"1\" class=\"dataframe\">\n",
       "  <thead>\n",
       "    <tr style=\"text-align: right;\">\n",
       "      <th></th>\n",
       "      <th>Monat</th>\n",
       "      <th>Produkt_A_DE</th>\n",
       "      <th>Produkt_B_DE</th>\n",
       "      <th>Produkt_C_DE</th>\n",
       "      <th>Gesamt_DE</th>\n",
       "      <th>Produkt_A_EU</th>\n",
       "      <th>Produkt_B_EU</th>\n",
       "      <th>Produkt_C_EU</th>\n",
       "      <th>Gesamt_EU</th>\n",
       "    </tr>\n",
       "  </thead>\n",
       "  <tbody>\n",
       "    <tr>\n",
       "      <th>0</th>\n",
       "      <td>January</td>\n",
       "      <td>15562.55</td>\n",
       "      <td>14774.46</td>\n",
       "      <td>148945.17</td>\n",
       "      <td>179282.18</td>\n",
       "      <td>1514.91</td>\n",
       "      <td>30370.49</td>\n",
       "      <td>810582.38</td>\n",
       "      <td>842467.78</td>\n",
       "    </tr>\n",
       "    <tr>\n",
       "      <th>1</th>\n",
       "      <td>February</td>\n",
       "      <td>14055.57</td>\n",
       "      <td>15176.47</td>\n",
       "      <td>128859.95</td>\n",
       "      <td>158091.99</td>\n",
       "      <td>1495.04</td>\n",
       "      <td>69687.09</td>\n",
       "      <td>1103974.89</td>\n",
       "      <td>1175157.02</td>\n",
       "    </tr>\n",
       "  </tbody>\n",
       "</table>\n",
       "</div>"
      ],
      "text/plain": [
       "      Monat  Produkt_A_DE  Produkt_B_DE  Produkt_C_DE  Gesamt_DE  \\\n",
       "0   January      15562.55      14774.46     148945.17  179282.18   \n",
       "1  February      14055.57      15176.47     128859.95  158091.99   \n",
       "\n",
       "   Produkt_A_EU  Produkt_B_EU  Produkt_C_EU   Gesamt_EU  \n",
       "0       1514.91      30370.49     810582.38   842467.78  \n",
       "1       1495.04      69687.09    1103974.89  1175157.02  "
      ]
     },
     "execution_count": 38,
     "metadata": {},
     "output_type": "execute_result"
    }
   ],
   "source": [
    "df = pd.read_pickle(\"el_puente.pkl\")\n",
    "df.head(2)"
   ]
  },
  {
   "cell_type": "code",
   "execution_count": 39,
   "metadata": {},
   "outputs": [],
   "source": [
    "df =df.drop([\"Gesamt_DE\", \"Gesamt_EU\"], axis=1)\n"
   ]
  },
  {
   "cell_type": "code",
   "execution_count": 40,
   "metadata": {},
   "outputs": [],
   "source": [
    "df[\"Monat\"].replace({\"January\":\"Jan\", \"February\":\"Feb\", \"March\":\"Mar\", \"April\":\"Apr\",\n",
    "                            \"May\":\"Mai\", \"June\":\"Jun\", \"July\":\"Jul\", \"August\":\"Aug\", \"September\":\"Sep\",\n",
    "                            \"October\":\"Okt\", \"November\":\"Nov\", \"December\":\"Dez\"}, inplace=True)"
   ]
  },
  {
   "cell_type": "code",
   "execution_count": 41,
   "metadata": {},
   "outputs": [
    {
     "data": {
      "text/html": [
       "<div>\n",
       "<style scoped>\n",
       "    .dataframe tbody tr th:only-of-type {\n",
       "        vertical-align: middle;\n",
       "    }\n",
       "\n",
       "    .dataframe tbody tr th {\n",
       "        vertical-align: top;\n",
       "    }\n",
       "\n",
       "    .dataframe thead th {\n",
       "        text-align: right;\n",
       "    }\n",
       "</style>\n",
       "<table border=\"1\" class=\"dataframe\">\n",
       "  <thead>\n",
       "    <tr style=\"text-align: right;\">\n",
       "      <th></th>\n",
       "      <th>Monat</th>\n",
       "      <th>Produkt</th>\n",
       "      <th>Umsatz</th>\n",
       "    </tr>\n",
       "  </thead>\n",
       "  <tbody>\n",
       "    <tr>\n",
       "      <th>0</th>\n",
       "      <td>Jan</td>\n",
       "      <td>Produkt_A_DE</td>\n",
       "      <td>15562.55</td>\n",
       "    </tr>\n",
       "    <tr>\n",
       "      <th>1</th>\n",
       "      <td>Feb</td>\n",
       "      <td>Produkt_A_DE</td>\n",
       "      <td>14055.57</td>\n",
       "    </tr>\n",
       "    <tr>\n",
       "      <th>2</th>\n",
       "      <td>Mar</td>\n",
       "      <td>Produkt_A_DE</td>\n",
       "      <td>15633.91</td>\n",
       "    </tr>\n",
       "    <tr>\n",
       "      <th>3</th>\n",
       "      <td>Apr</td>\n",
       "      <td>Produkt_A_DE</td>\n",
       "      <td>15792.85</td>\n",
       "    </tr>\n",
       "    <tr>\n",
       "      <th>4</th>\n",
       "      <td>Mai</td>\n",
       "      <td>Produkt_A_DE</td>\n",
       "      <td>16947.49</td>\n",
       "    </tr>\n",
       "    <tr>\n",
       "      <th>...</th>\n",
       "      <td>...</td>\n",
       "      <td>...</td>\n",
       "      <td>...</td>\n",
       "    </tr>\n",
       "    <tr>\n",
       "      <th>67</th>\n",
       "      <td>Aug</td>\n",
       "      <td>Produkt_C_EU</td>\n",
       "      <td>3742058.75</td>\n",
       "    </tr>\n",
       "    <tr>\n",
       "      <th>68</th>\n",
       "      <td>Sep</td>\n",
       "      <td>Produkt_C_EU</td>\n",
       "      <td>3995056.61</td>\n",
       "    </tr>\n",
       "    <tr>\n",
       "      <th>69</th>\n",
       "      <td>Okt</td>\n",
       "      <td>Produkt_C_EU</td>\n",
       "      <td>4591369.88</td>\n",
       "    </tr>\n",
       "    <tr>\n",
       "      <th>70</th>\n",
       "      <td>Nov</td>\n",
       "      <td>Produkt_C_EU</td>\n",
       "      <td>4845068.92</td>\n",
       "    </tr>\n",
       "    <tr>\n",
       "      <th>71</th>\n",
       "      <td>Dez</td>\n",
       "      <td>Produkt_C_EU</td>\n",
       "      <td>5422696.34</td>\n",
       "    </tr>\n",
       "  </tbody>\n",
       "</table>\n",
       "<p>72 rows × 3 columns</p>\n",
       "</div>"
      ],
      "text/plain": [
       "   Monat       Produkt      Umsatz\n",
       "0    Jan  Produkt_A_DE    15562.55\n",
       "1    Feb  Produkt_A_DE    14055.57\n",
       "2    Mar  Produkt_A_DE    15633.91\n",
       "3    Apr  Produkt_A_DE    15792.85\n",
       "4    Mai  Produkt_A_DE    16947.49\n",
       "..   ...           ...         ...\n",
       "67   Aug  Produkt_C_EU  3742058.75\n",
       "68   Sep  Produkt_C_EU  3995056.61\n",
       "69   Okt  Produkt_C_EU  4591369.88\n",
       "70   Nov  Produkt_C_EU  4845068.92\n",
       "71   Dez  Produkt_C_EU  5422696.34\n",
       "\n",
       "[72 rows x 3 columns]"
      ]
     },
     "execution_count": 41,
     "metadata": {},
     "output_type": "execute_result"
    }
   ],
   "source": [
    "shop_ohne_gesamt = pd.melt(df, id_vars='Monat', var_name='Produkt', value_name='Umsatz')\n",
    "shop_ohne_gesamt"
   ]
  },
  {
   "cell_type": "code",
   "execution_count": 42,
   "metadata": {},
   "outputs": [],
   "source": [
    "def plot_umsatz(produkt):\n",
    "    produkt_daten = shop_ohne_gesamt[shop_ohne_gesamt['Produkt'] == produkt]\n",
    "    sns.barplot(x='Monat', y='Umsatz', data=produkt_daten)\n",
    "    plt.title(f\"Monatliche Umsatz für Produkt {produkt}\")\n",
    "    plt.show()"
   ]
  },
  {
   "cell_type": "code",
   "execution_count": 43,
   "metadata": {},
   "outputs": [
    {
     "data": {
      "application/vnd.jupyter.widget-view+json": {
       "model_id": "6e9bc73c9f814f919cae1977dd406384",
       "version_major": 2,
       "version_minor": 0
      },
      "text/plain": [
       "interactive(children=(Dropdown(description='produkt', options=('Produkt_A_DE', 'Produkt_B_DE', 'Produkt_C_DE',…"
      ]
     },
     "metadata": {},
     "output_type": "display_data"
    },
    {
     "data": {
      "text/plain": [
       "<function __main__.plot_umsatz(produkt)>"
      ]
     },
     "execution_count": 43,
     "metadata": {},
     "output_type": "execute_result"
    }
   ],
   "source": [
    "produkte = shop_ohne_gesamt['Produkt'].unique()\n",
    "interact(plot_umsatz, produkt=produkte)"
   ]
  }
 ],
 "metadata": {
  "kernelspec": {
   "display_name": "DataCraft",
   "language": "python",
   "name": "python3"
  },
  "language_info": {
   "codemirror_mode": {
    "name": "ipython",
    "version": 3
   },
   "file_extension": ".py",
   "mimetype": "text/x-python",
   "name": "python",
   "nbconvert_exporter": "python",
   "pygments_lexer": "ipython3",
   "version": "3.11.4"
  },
  "orig_nbformat": 4
 },
 "nbformat": 4,
 "nbformat_minor": 2
}
